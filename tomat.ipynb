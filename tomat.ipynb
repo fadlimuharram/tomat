{
 "cells": [
  {
   "cell_type": "code",
   "execution_count": 13,
   "metadata": {},
   "outputs": [
    {
     "name": "stdout",
     "output_type": "stream",
     "text": [
      "[name: \"/device:CPU:0\"\n",
      "device_type: \"CPU\"\n",
      "memory_limit: 268435456\n",
      "locality {\n",
      "}\n",
      "incarnation: 18006475944959539082\n",
      "]\n"
     ]
    }
   ],
   "source": [
    "\n",
    "from keras.models import Sequential\n",
    "from keras.layers import Convolution2D\n",
    "from keras.layers import MaxPooling2D\n",
    "from keras.layers import Flatten\n",
    "from keras.layers import Dense\n",
    "from tensorflow.python.client import device_lib\n",
    "print(device_lib.list_local_devices())"
   ]
  },
  {
   "cell_type": "code",
   "execution_count": 14,
   "metadata": {},
   "outputs": [
    {
     "name": "stdout",
     "output_type": "stream",
     "text": [
      "Convolution of layer 1 Completed\n",
      "Pooling Completed\n",
      "Flattening Completed\n",
      "Full Connection Between Hidden Layers and Output Layers Completed\n",
      "Compiling Initiated\n"
     ]
    },
    {
     "name": "stderr",
     "output_type": "stream",
     "text": [
      "/Users/fadlimuharram/anaconda3/lib/python3.6/site-packages/ipykernel_launcher.py:5: UserWarning: Update your `Conv2D` call to the Keras 2 API: `Conv2D(32, (3, 3), input_shape=(64, 64, 3..., activation=\"relu\")`\n",
      "  \"\"\"\n",
      "/Users/fadlimuharram/anaconda3/lib/python3.6/site-packages/ipykernel_launcher.py:14: UserWarning: Update your `Conv2D` call to the Keras 2 API: `Conv2D(32, (3, 3), activation=\"relu\")`\n",
      "  \n",
      "/Users/fadlimuharram/anaconda3/lib/python3.6/site-packages/ipykernel_launcher.py:25: UserWarning: Update your `Dense` call to the Keras 2 API: `Dense(activation=\"relu\", units=128)`\n"
     ]
    }
   ],
   "source": [
    "# initialising the cnn\n",
    "klasifikasi = Sequential()\n",
    "\n",
    "# step 1 - convolution\n",
    "klasifikasi.add(Convolution2D(32, 3, 3, input_shape=(64, 64, 3), activation='relu'))\n",
    "print(\"Convolution of layer 1 Completed\")\n",
    "\n",
    "\n",
    "# step 2 - pooling\n",
    "klasifikasi.add(MaxPooling2D(pool_size=(2, 2)))\n",
    "print(\"Pooling Completed\")\n",
    "\n",
    "# adding a second convolution layer\n",
    "klasifikasi.add(Convolution2D(32, 3, 3, activation='relu'))\n",
    "klasifikasi.add(MaxPooling2D(pool_size=(2, 2)))\n",
    "\n",
    "\n",
    "\n",
    "# step 3 - flattening\n",
    "klasifikasi.add(Flatten())\n",
    "print(\"Flattening Completed\")\n",
    "\n",
    "# step 4 -full connection\n",
    "klasifikasi.add(Dense(units = 128, activation = 'relu'))\n",
    "klasifikasi.add(Dense(output_dim = 128, activation='relu'))\n",
    "klasifikasi.add(Dense(units = 8, activation = 'softmax'))\n",
    "print(\"Full Connection Between Hidden Layers and Output Layers Completed\")\n",
    "\n",
    "\n",
    "\n",
    "\n",
    "\n",
    "# kompile cnn\n",
    "klasifikasi.compile(optimizer='adam', loss='categorical_crossentropy', metrics= ['accuracy'])\n",
    "print(\"Compiling Initiated\")\n"
   ]
  },
  {
   "cell_type": "code",
   "execution_count": 15,
   "metadata": {},
   "outputs": [
    {
     "name": "stdout",
     "output_type": "stream",
     "text": [
      "Found 800 images belonging to 8 classes.\n",
      "Found 400 images belonging to 8 classes.\n"
     ]
    }
   ],
   "source": [
    "# part 2 -fitting the cnn to images\n",
    "from keras.preprocessing.image import ImageDataGenerator\n",
    "\n",
    "train_datagen = ImageDataGenerator(\n",
    "        rescale=1./255,\n",
    "        shear_range=0.2,\n",
    "        zoom_range=0.2,\n",
    "        horizontal_flip=True)\n",
    "\n",
    "test_datagen = ImageDataGenerator(rescale=1./255)\n",
    "\n",
    "train_set = train_datagen.flow_from_directory(\n",
    "        '../tomat/color/dummy/training_set',\n",
    "        target_size=(64, 64),\n",
    "        batch_size=8,\n",
    "        class_mode='categorical')\n",
    "\n",
    "test_set = test_datagen.flow_from_directory(\n",
    "        '../tomat/color/dummy/testing_set',\n",
    "        target_size=(64, 64),\n",
    "        batch_size=8,\n",
    "        class_mode='categorical')\n",
    "\n"
   ]
  },
  {
   "cell_type": "code",
   "execution_count": 17,
   "metadata": {},
   "outputs": [
    {
     "name": "stdout",
     "output_type": "stream",
     "text": [
      "Epoch 1/10\n",
      "800/800 [==============================] - 31s 39ms/step - loss: 0.6688 - acc: 0.7548 - val_loss: 0.8150 - val_acc: 0.7425\n",
      "Epoch 2/10\n",
      "800/800 [==============================] - 32s 41ms/step - loss: 0.3679 - acc: 0.8672 - val_loss: 1.2207 - val_acc: 0.6775\n",
      "Epoch 3/10\n",
      "800/800 [==============================] - 33s 41ms/step - loss: 0.2034 - acc: 0.9275 - val_loss: 1.0261 - val_acc: 0.7625\n",
      "Epoch 4/10\n",
      "800/800 [==============================] - 40s 50ms/step - loss: 0.1694 - acc: 0.9425 - val_loss: 1.1641 - val_acc: 0.7275\n",
      "Epoch 5/10\n",
      "800/800 [==============================] - 43s 54ms/step - loss: 0.1402 - acc: 0.9519 - val_loss: 1.2924 - val_acc: 0.7150\n",
      "Epoch 6/10\n",
      "800/800 [==============================] - 38s 48ms/step - loss: 0.1022 - acc: 0.9662 - val_loss: 1.1838 - val_acc: 0.7550\n",
      "Epoch 7/10\n",
      "800/800 [==============================] - 39s 49ms/step - loss: 0.0910 - acc: 0.9719 - val_loss: 1.3342 - val_acc: 0.7725\n",
      "Epoch 8/10\n",
      "800/800 [==============================] - 41s 51ms/step - loss: 0.0795 - acc: 0.9761 - val_loss: 2.4290 - val_acc: 0.6400\n",
      "Epoch 9/10\n",
      "800/800 [==============================] - 44s 54ms/step - loss: 0.0899 - acc: 0.9700 - val_loss: 1.2904 - val_acc: 0.7725\n",
      "Epoch 10/10\n",
      "800/800 [==============================] - 40s 50ms/step - loss: 0.0708 - acc: 0.9783 - val_loss: 1.4282 - val_acc: 0.7325\n",
      "Compiling Completed\n"
     ]
    }
   ],
   "source": [
    "datanya = klasifikasi.fit_generator(\n",
    "        train_set,\n",
    "        steps_per_epoch=800,\n",
    "        epochs=10,\n",
    "        validation_data=test_set,\n",
    "        validation_steps=400)\n",
    "print(\"Compiling Completed\")"
   ]
  },
  {
   "cell_type": "code",
   "execution_count": 18,
   "metadata": {},
   "outputs": [
    {
     "data": {
      "image/png": "[encoded data removed]",
      "text/plain": [
       "<Figure size 432x288 with 1 Axes>"
      ]
     },
     "metadata": {},
     "output_type": "display_data"
    },
    {
     "data": {
      "image/png": "[encoded data removed]",
      "text/plain": [
       "<Figure size 432x288 with 1 Axes>"
      ]
     },
     "metadata": {},
     "output_type": "display_data"
    }
   ],
   "source": [
    "import matplotlib.pyplot as plt\n",
    "\n",
    "plt.plot(datanya.history['acc'])\n",
    "plt.plot(datanya.history['val_acc'])\n",
    "plt.title('model accuracy')\n",
    "plt.ylabel('accuracy')\n",
    "plt.xlabel('epoch')\n",
    "plt.legend(['train', 'test'], loc='upper left')\n",
    "plt.show()\n",
    "\n",
    "\n",
    "# history untuk loss\n",
    "plt.plot(datanya.history['loss'])\n",
    "plt.plot(datanya.history['val_loss'])\n",
    "plt.title('model loss')\n",
    "plt.ylabel('loss')\n",
    "plt.xlabel('epoch')\n",
    "plt.legend(['train', 'test'], loc='upper left')\n",
    "plt.show()"
   ]
  },
  {
   "cell_type": "code",
   "execution_count": null,
   "metadata": {},
   "outputs": [],
   "source": []
  },
  {
   "cell_type": "code",
   "execution_count": null,
   "metadata": {},
   "outputs": [],
   "source": []
  }
 ],
 "metadata": {
  "kernelspec": {
   "display_name": "Python 3",
   "language": "python",
   "name": "python3"
  },
  "language_info": {
   "codemirror_mode": {
    "name": "ipython",
    "version": 3
   },
   "file_extension": ".py",
   "mimetype": "text/x-python",
   "name": "python",
   "nbconvert_exporter": "python",
   "pygments_lexer": "ipython3",
   "version": "3.6.5"
  }
 },
 "nbformat": 4,
 "nbformat_minor": 2
}
