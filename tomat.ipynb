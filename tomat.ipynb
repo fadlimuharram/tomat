{
 "cells": [
  {
   "cell_type": "code",
   "execution_count": null,
   "metadata": {},
   "outputs": [],
   "source": [
    "\n",
    "from keras.models import Sequential\n",
    "from keras.layers import Convolution2D\n",
    "from keras.layers import MaxPooling2D\n",
    "from keras.layers import Flatten\n",
    "from keras.layers import Dense\n"
   ]
  },
  {
   "cell_type": "code",
   "execution_count": null,
   "metadata": {},
   "outputs": [],
   "source": [
    "# initialising the cnn\n",
    "klasifikasi = Sequential()\n",
    "\n",
    "# step 1 - convolution\n",
    "klasifikasi.add(Convolution2D(32, 3, 3, input_shape=(64, 64, 3), activation='relu'))\n",
    "print(\"Convolution of layer 1 Completed\")\n",
    "\n",
    "\n",
    "# step 2 - pooling\n",
    "klasifikasi.add(MaxPooling2D(pool_size=(2, 2)))\n",
    "print(\"Pooling Completed\")\n",
    "\n",
    "# adding a second convolution layer\n",
    "klasifikasi.add(Convolution2D(32, 3, 3, activation='relu'))\n",
    "klasifikasi.add(MaxPooling2D(pool_size=(2, 2)))\n",
    "\n",
    "\n",
    "\n",
    "# step 3 - flattening\n",
    "klasifikasi.add(Flatten())\n",
    "print(\"Flattening Completed\")\n",
    "\n",
    "# step 4 -full connection\n",
    "klasifikasi.add(Dense(units = 128, activation = 'relu'))\n",
    "klasifikasi.add(Dense(output_dim = 128, activation='relu'))\n",
    "klasifikasi.add(Dense(units = 3, activation = 'softmax'))\n",
    "print(\"Full Connection Between Hidden Layers and Output Layers Completed\")\n",
    "\n",
    "\n",
    "\n",
    "\n",
    "\n",
    "# kompile cnn\n",
    "klasifikasi.compile(optimizer='adam', loss='categorical_crossentropy', metrics= ['accuracy'])\n",
    "print(\"Compiling Initiated\")\n"
   ]
  },
  {
   "cell_type": "code",
   "execution_count": null,
   "metadata": {},
   "outputs": [],
   "source": [
    "# part 2 -fitting the cnn to images\n",
    "from keras.preprocessing.image import ImageDataGenerator\n",
    "\n",
    "train_datagen = ImageDataGenerator(\n",
    "        rescale=1./255,\n",
    "        shear_range=0.2,\n",
    "        zoom_range=0.2,\n",
    "        horizontal_flip=True)\n",
    "\n",
    "test_datagen = ImageDataGenerator(rescale=1./255)\n",
    "\n",
    "train_set = train_datagen.flow_from_directory(\n",
    "        'anggrek/training_set',\n",
    "        target_size=(64, 64),\n",
    "        batch_size=8,\n",
    "        class_mode='categorical')\n",
    "\n",
    "test_set = test_datagen.flow_from_directory(\n",
    "        'anggrek/testing_set',\n",
    "        target_size=(64, 64),\n",
    "        batch_size=8,\n",
    "        class_mode='categorical')\n",
    "\n",
    "datanya = klasifikasi.fit_generator(\n",
    "        train_set,\n",
    "        steps_per_epoch=43,\n",
    "        epochs=10,\n",
    "        validation_data=test_set,\n",
    "        validation_steps=26)\n",
    "print(\"Compiling Completed\")"
   ]
  },
  {
   "cell_type": "code",
   "execution_count": null,
   "metadata": {},
   "outputs": [],
   "source": [
    "import matplotlib.pyplot as plt\n",
    "\n",
    "plt.plot(datanya.history['acc'])\n",
    "plt.plot(datanya.history['val_acc'])\n",
    "plt.title('model accuracy')\n",
    "plt.ylabel('accuracy')\n",
    "plt.xlabel('epoch')\n",
    "plt.legend(['train', 'test'], loc='upper left')\n",
    "plt.show()\n",
    "\n",
    "\n",
    "# history untuk loss\n",
    "plt.plot(datanya.history['loss'])\n",
    "plt.plot(datanya.history['val_loss'])\n",
    "plt.title('model loss')\n",
    "plt.ylabel('loss')\n",
    "plt.xlabel('epoch')\n",
    "plt.legend(['train', 'test'], loc='upper left')\n",
    "plt.show()"
   ]
  }
 ],
 "metadata": {
  "kernelspec": {
   "display_name": "Python 3",
   "language": "python",
   "name": "python3"
  },
  "language_info": {
   "codemirror_mode": {
    "name": "ipython",
    "version": 3
   },
   "file_extension": ".py",
   "mimetype": "text/x-python",
   "name": "python",
   "nbconvert_exporter": "python",
   "pygments_lexer": "ipython3",
   "version": "3.6.5"
  }
 },
 "nbformat": 4,
 "nbformat_minor": 2
}
